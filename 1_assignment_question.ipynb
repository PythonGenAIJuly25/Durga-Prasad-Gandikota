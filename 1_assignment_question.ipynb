{
  "cells": [
    {
      "cell_type": "markdown",
      "metadata": {
        "id": "-xQS9Jq5C5RH"
      },
      "source": [
        "# Python Basics\n",
        "## Topics Covered:\n",
        "- Syntax and Semantics\n",
        "- Variables and Data Types\n",
        "- Basic Operators (Arithmetic, Comparison, Logical)\n"
      ]
    },
    {
      "cell_type": "markdown",
      "metadata": {
        "id": "waZ4MC_nC5RH"
      },
      "source": [
        "## 1. Syntax and Semantics\n",
        "\n",
        "**Question 1:** Write a Python program to print \"Hello, World!\"."
      ]
    },
    {
      "cell_type": "code",
      "execution_count": null,
      "metadata": {
        "id": "lqej5_iiC5RI",
        "outputId": "eafdf288-7006-439e-be4e-96fc81d6de60",
        "colab": {
          "base_uri": "https://localhost:8080/"
        }
      },
      "outputs": [
        {
          "output_type": "stream",
          "name": "stdout",
          "text": [
            "Hello, World!\n"
          ]
        }
      ],
      "source": [
        "# Your code here\n",
        "print(\"Hello, World!\")"
      ]
    },
    {
      "cell_type": "markdown",
      "metadata": {
        "id": "qaTWg-26C5RI"
      },
      "source": [
        "**Question 2:** Write a Python program that takes a user input and prints it."
      ]
    },
    {
      "cell_type": "code",
      "execution_count": null,
      "metadata": {
        "id": "cWGXd8vdC5RJ",
        "outputId": "b5e0e0c2-a35f-480b-c11b-f81c11584b52",
        "colab": {
          "base_uri": "https://localhost:8080/"
        }
      },
      "outputs": [
        {
          "output_type": "stream",
          "name": "stdout",
          "text": [
            "Enter your name: prasad\n",
            "prasad\n"
          ]
        }
      ],
      "source": [
        "# Your code here\n",
        "name = input(\"Enter your name: \")\n",
        "print(name)"
      ]
    },
    {
      "cell_type": "markdown",
      "metadata": {
        "id": "C2bBNW-WC5RJ"
      },
      "source": [
        "**Question 3:** Write a Python program to check if a number is positive, negative, or zero."
      ]
    },
    {
      "cell_type": "code",
      "execution_count": null,
      "metadata": {
        "id": "TossavLLC5RJ",
        "outputId": "538effbc-a04f-47d1-f70d-6b0f84727795",
        "colab": {
          "base_uri": "https://localhost:8080/"
        }
      },
      "outputs": [
        {
          "output_type": "stream",
          "name": "stdout",
          "text": [
            "Enter a number:5\n",
            "positive number\n"
          ]
        }
      ],
      "source": [
        "# Your code here\n",
        "number = float(input(\"Enter a number:\"))\n",
        "\n",
        "if number > 0:\n",
        "  print(\"positive number\")\n",
        "elif number < 0:\n",
        "  print(\"negative number\")\n",
        "else:\n",
        "  print(\"zero\")\n"
      ]
    },
    {
      "cell_type": "markdown",
      "metadata": {
        "id": "gozaeqLpC5RJ"
      },
      "source": [
        "**Question 4:** Write a Python program to find the largest of three numbers."
      ]
    },
    {
      "cell_type": "code",
      "execution_count": null,
      "metadata": {
        "id": "wRPa5-J9C5RK",
        "outputId": "ea1bffd5-cfa0-44a9-d1b1-e482070ca636",
        "colab": {
          "base_uri": "https://localhost:8080/"
        }
      },
      "outputs": [
        {
          "output_type": "stream",
          "name": "stdout",
          "text": [
            "Enter first number:9\n",
            "Enter second number:12\n",
            "Enter third number:24\n",
            "largest number is 24.0\n"
          ]
        }
      ],
      "source": [
        "# Your code here\n",
        "n1 = float(input(\"Enter first number:\"))\n",
        "n2 = float(input(\"Enter second number:\"))\n",
        "n3 = float(input(\"Enter third number:\"))\n",
        "\n",
        "if n1 > n2 and n1 > n3:\n",
        "  print(\"largest number is\", n1)\n",
        "elif n2 > n1 and n2 > n3:\n",
        "  print(\"largest number is\", n2)\n",
        "else:\n",
        "  print(\"largest number is\", n3)\n"
      ]
    },
    {
      "cell_type": "markdown",
      "metadata": {
        "id": "BYmHUvGoC5RK"
      },
      "source": [
        "**Question 5:** Write a Python program to calculate the factorial of a number."
      ]
    },
    {
      "cell_type": "code",
      "execution_count": null,
      "metadata": {
        "id": "SUsF09SdC5RK",
        "outputId": "4cd607ef-cc8d-47a9-af91-dc5f4c7ea62c",
        "colab": {
          "base_uri": "https://localhost:8080/"
        }
      },
      "outputs": [
        {
          "output_type": "stream",
          "name": "stdout",
          "text": [
            "Enter the number: 5\n",
            "Result is 120\n"
          ]
        }
      ],
      "source": [
        "# Your code here\n",
        "n = int(input(\"Enter the number: \"))\n",
        "\n",
        "def factorial(n):\n",
        "    if n == 0:\n",
        "        return 1\n",
        "    else:\n",
        "        return n * factorial(n - 1)\n",
        "\n",
        "print(\"Result is\", factorial(n))"
      ]
    },
    {
      "cell_type": "markdown",
      "metadata": {
        "id": "H0deVHCbC5RK"
      },
      "source": [
        "## 2. Variables and Data Types\n",
        "\n",
        "**Question 6:** Create variables of different data types: integer, float, string, and boolean. Print their values and types."
      ]
    },
    {
      "cell_type": "code",
      "execution_count": null,
      "metadata": {
        "id": "BJ3pmSOBC5RK",
        "outputId": "c8ebe84a-4e4c-4702-d709-0732491f0abf",
        "colab": {
          "base_uri": "https://localhost:8080/"
        }
      },
      "outputs": [
        {
          "output_type": "stream",
          "name": "stdout",
          "text": [
            "8 is type of: <class 'int'>\n",
            "2.5 is type of: <class 'float'>\n",
            "prasad is type of: <class 'str'>\n",
            "True is type of: <class 'bool'>\n"
          ]
        }
      ],
      "source": [
        "# Your code here\n",
        "my_interger = 8\n",
        "my_float = 2.5\n",
        "my_string = \"prasad\"\n",
        "my_boolean = True\n",
        "\n",
        "print(my_interger, \"is type of:\", type(my_interger))\n",
        "print(my_float, \"is type of:\", type(my_float))\n",
        "print(my_string, \"is type of:\", type(my_string))\n",
        "print(my_boolean, \"is type of:\", type(my_boolean))\n"
      ]
    },
    {
      "cell_type": "markdown",
      "metadata": {
        "id": "302YnCsKC5RK"
      },
      "source": [
        "**Question 7:** Write a Python program to swap the values of two variables."
      ]
    },
    {
      "cell_type": "code",
      "execution_count": null,
      "metadata": {
        "id": "89BQXyZUC5RK",
        "outputId": "94b5370c-c14a-4dfe-d257-1de2517c172e",
        "colab": {
          "base_uri": "https://localhost:8080/"
        }
      },
      "outputs": [
        {
          "output_type": "stream",
          "name": "stdout",
          "text": [
            "9\n",
            "2\n",
            "-----\n",
            "2\n",
            "9\n"
          ]
        }
      ],
      "source": [
        "# Your code here\n",
        "a = 9\n",
        "b = 2\n",
        "print(a)\n",
        "print(b)\n",
        "#after swap\n",
        "a, b = b, a\n",
        "print(\"-----\")\n",
        "print(a)\n",
        "print(b)\n"
      ]
    },
    {
      "cell_type": "markdown",
      "metadata": {
        "id": "_xaB7wfDC5RK"
      },
      "source": [
        "**Question 8:** Write a Python program to convert Celsius to Fahrenheit."
      ]
    },
    {
      "cell_type": "code",
      "execution_count": null,
      "metadata": {
        "id": "WOeBEMMyC5RK",
        "outputId": "5209d577-314b-4f79-a2a8-f3330e661a8f",
        "colab": {
          "base_uri": "https://localhost:8080/"
        }
      },
      "outputs": [
        {
          "output_type": "stream",
          "name": "stdout",
          "text": [
            "temperature in Celsius:5\n",
            "Temperature in Fahrenheit: 41.0\n"
          ]
        }
      ],
      "source": [
        "# Your code here\n",
        "celsius = float(input(\"temperature in Celsius:\"))\n",
        "\n",
        "fahrenheit = (celsius * 9/5) + 32\n",
        "\n",
        "print(\"Temperature in Fahrenheit:\", fahrenheit)"
      ]
    },
    {
      "cell_type": "markdown",
      "metadata": {
        "id": "1uXmyGomC5RK"
      },
      "source": [
        "**Question 9:** Write a Python program to concatenate two strings."
      ]
    },
    {
      "cell_type": "code",
      "execution_count": null,
      "metadata": {
        "id": "Gq44zQEWC5RL",
        "outputId": "19f8ad05-4751-433d-e77f-3c5077266280",
        "colab": {
          "base_uri": "https://localhost:8080/"
        }
      },
      "outputs": [
        {
          "output_type": "stream",
          "name": "stdout",
          "text": [
            "Enter first string: Durga\n",
            "Enter second string: Prasad\n",
            "concatenating string is: Durga Prasad\n"
          ]
        }
      ],
      "source": [
        "# Your code here\n",
        "str1 = input(\"Enter first string: \")\n",
        "str2 = input(\"Enter second string: \")\n",
        "\n",
        "result = \" \".join([str1, str2])\n",
        "print(\"concatenating string is:\",result)\n"
      ]
    },
    {
      "cell_type": "markdown",
      "metadata": {
        "id": "JnI-yL9pC5RL"
      },
      "source": [
        "**Question 10:** Write a Python program to check if a variable is of a specific data type."
      ]
    },
    {
      "cell_type": "code",
      "execution_count": null,
      "metadata": {
        "id": "9jaNdMX5C5RL",
        "outputId": "03bdb9e8-9ed8-4d8b-b257-9b89ca8ce4ee",
        "colab": {
          "base_uri": "https://localhost:8080/"
        }
      },
      "outputs": [
        {
          "output_type": "stream",
          "name": "stdout",
          "text": [
            "The variable '79' is a integer type.\n"
          ]
        }
      ],
      "source": [
        "# Your code here\n",
        "value = 79\n",
        "\n",
        "if isinstance(value, int):\n",
        "    print(f\"The variable '{value}' is a integer type.\")\n",
        "else:\n",
        "    print(f\"The variable '{value}' is not a integer type.\")"
      ]
    },
    {
      "cell_type": "markdown",
      "metadata": {
        "id": "-_d2Ti2CC5RL"
      },
      "source": [
        "## 3. Basic Operators (Arithmetic, Comparison, Logical)\n",
        "\n",
        "**Question 11:** Write a Python program to perform arithmetic operations: addition, subtraction, multiplication, and division."
      ]
    },
    {
      "cell_type": "code",
      "execution_count": null,
      "metadata": {
        "id": "VKQc3sweC5RL",
        "outputId": "05064635-7506-4f30-dd37-9d81c13ad7f2",
        "colab": {
          "base_uri": "https://localhost:8080/"
        }
      },
      "outputs": [
        {
          "output_type": "stream",
          "name": "stdout",
          "text": [
            "Enter first number: 7\n",
            "Enter second number: 5\n",
            "Addition of two numbers: 12.0\n",
            "Subtraction of two numbers: 2.0\n",
            "Multiplication of two numbers: 35.0\n",
            "Division of two numbers: 1.4\n"
          ]
        }
      ],
      "source": [
        "# Your code here\n",
        "num1 = float(input(\"Enter first number: \"))\n",
        "num2 = float(input(\"Enter second number: \"))\n",
        "\n",
        "add = num1 + num2\n",
        "sub = num1 - num2\n",
        "mul = num1 * num2\n",
        "div = num1 / num2\n",
        "\n",
        "print(\"Addition of two numbers:\", add)\n",
        "print(\"Subtraction of two numbers:\", sub)\n",
        "print(\"Multiplication of two numbers:\", mul)\n",
        "print(\"Division of two numbers:\", div)"
      ]
    },
    {
      "cell_type": "markdown",
      "metadata": {
        "id": "skgO_Y7eC5RL"
      },
      "source": [
        "**Question 12:** Write a Python program to demonstrate comparison operators: equal to, not equal to, greater than, less than."
      ]
    },
    {
      "cell_type": "code",
      "execution_count": null,
      "metadata": {
        "id": "R4Nxieg1C5RL",
        "outputId": "542f0f73-d75e-461e-ec40-15662b7f5995",
        "colab": {
          "base_uri": "https://localhost:8080/"
        }
      },
      "outputs": [
        {
          "output_type": "stream",
          "name": "stdout",
          "text": [
            "Enter first number: 7\n",
            "Enter second number: 3\n",
            "a == b is : False\n",
            "a != b is : True\n",
            "a > b is : False\n",
            "a < b is : True\n"
          ]
        }
      ],
      "source": [
        "# Your code here\n",
        "num1 = int(input(\"Enter first number: \"))\n",
        "num2 = int(input(\"Enter second number: \"))\n",
        "\n",
        "print(\"a == b is :\", a == b)\n",
        "print(\"a != b is :\", a != b)\n",
        "print(\"a > b is :\", a > b)\n",
        "print(\"a < b is :\", a < b)"
      ]
    },
    {
      "cell_type": "markdown",
      "metadata": {
        "id": "ij1xo-uwC5RL"
      },
      "source": [
        "**Question 13:** Write a Python program to demonstrate logical operators: and, or, not."
      ]
    },
    {
      "cell_type": "code",
      "execution_count": null,
      "metadata": {
        "id": "qQCFQ3EZC5RL",
        "outputId": "1e2d9598-0a47-41a1-816c-2cdf1d280eb1",
        "colab": {
          "base_uri": "https://localhost:8080/"
        }
      },
      "outputs": [
        {
          "output_type": "stream",
          "name": "stdout",
          "text": [
            "False\n",
            "True\n",
            "True\n"
          ]
        }
      ],
      "source": [
        "# Your code here\n",
        "a= False\n",
        "b= True\n",
        "print(a and b)\n",
        "print(a or b)\n",
        "print(not a)\n"
      ]
    },
    {
      "cell_type": "markdown",
      "metadata": {
        "id": "7co50Gx8C5RL"
      },
      "source": [
        "**Question 14:** Write a Python program to calculate the square of a number."
      ]
    },
    {
      "cell_type": "code",
      "execution_count": null,
      "metadata": {
        "id": "wRgbkW-oC5RL",
        "outputId": "acf82117-87c0-4807-eb0c-664b4968c749",
        "colab": {
          "base_uri": "https://localhost:8080/"
        }
      },
      "outputs": [
        {
          "output_type": "stream",
          "name": "stdout",
          "text": [
            "Enter a number:5\n",
            "Square of a number is: 25.0\n"
          ]
        }
      ],
      "source": [
        "# Your code here\n",
        "number = float(input(\"Enter a number:\"))\n",
        "square = number * number\n",
        "\n",
        "print(\"Square of a number is:\",square)"
      ]
    },
    {
      "cell_type": "markdown",
      "metadata": {
        "id": "MdMX9-q3C5RM"
      },
      "source": [
        "**Question 15:** Write a Python program to check if a number is even or odd."
      ]
    },
    {
      "cell_type": "code",
      "execution_count": null,
      "metadata": {
        "id": "3JkkNAJ9C5RM",
        "outputId": "6f61f9c7-c5a5-4754-e664-d07f546a8c9f",
        "colab": {
          "base_uri": "https://localhost:8080/"
        }
      },
      "outputs": [
        {
          "output_type": "stream",
          "name": "stdout",
          "text": [
            "Enter a number:5\n",
            "number is odd\n"
          ]
        }
      ],
      "source": [
        "# Your code here\n",
        "num = int(input(\"Enter a number:\"))\n",
        "\n",
        "if num % 2 == 0:\n",
        "    print(\"number is even\")\n",
        "else:\n",
        "    print(\"number is odd\")\n"
      ]
    },
    {
      "cell_type": "markdown",
      "metadata": {
        "id": "lGmWx7M9C5RM"
      },
      "source": [
        "**Question 16:** Write a Python program to find the sum of the first n natural numbers."
      ]
    },
    {
      "cell_type": "code",
      "execution_count": null,
      "metadata": {
        "id": "xEJimbyDC5RM",
        "outputId": "5aff1b34-ed1d-4c05-9b50-7f33151868b4",
        "colab": {
          "base_uri": "https://localhost:8080/"
        }
      },
      "outputs": [
        {
          "output_type": "stream",
          "name": "stdout",
          "text": [
            "Enter a natural number: 6\n",
            "Sum of first 6 natural numbers is: 21\n"
          ]
        }
      ],
      "source": [
        "# Your code here\n",
        "num = int(input(\"Enter a natural number: \"))\n",
        "\n",
        "if num > 0:\n",
        "    total = num * (num + 1) // 2\n",
        "    print(\"Sum of first\", num, \"natural numbers is:\", total)\n",
        "else:\n",
        "    print(\"Please enter a positive number.\")"
      ]
    },
    {
      "cell_type": "markdown",
      "metadata": {
        "id": "gNzWMkHBC5RM"
      },
      "source": [
        "**Question 17:** Write a Python program to check if a year is a leap year."
      ]
    },
    {
      "cell_type": "code",
      "execution_count": null,
      "metadata": {
        "id": "rTmnnOD2C5RM",
        "outputId": "8131c1cf-d262-4c13-df42-fa63ed7fbd35",
        "colab": {
          "base_uri": "https://localhost:8080/"
        }
      },
      "outputs": [
        {
          "output_type": "stream",
          "name": "stdout",
          "text": [
            "Enter a year: 2025\n",
            "2025 is not a leap year.\n"
          ]
        }
      ],
      "source": [
        "# Your code here\n",
        "year = int(input(\"Enter a year: \"))\n",
        "\n",
        "if (year % 4 == 0 and year % 100 != 0) or (year % 400 == 0):\n",
        "    print(year, \"is a leap year.\")\n",
        "else:\n",
        "    print(year, \"is not a leap year.\")"
      ]
    },
    {
      "cell_type": "markdown",
      "metadata": {
        "id": "l-Wl53cFC5RM"
      },
      "source": [
        "**Question 18:** Write a Python program to reverse a string."
      ]
    },
    {
      "cell_type": "code",
      "execution_count": null,
      "metadata": {
        "id": "kRmrprH_C5RM",
        "outputId": "b74f52d2-9dc5-494b-d3ea-b89ef9ab844b",
        "colab": {
          "base_uri": "https://localhost:8080/"
        }
      },
      "outputs": [
        {
          "output_type": "stream",
          "name": "stdout",
          "text": [
            "Enter a string: prasad\n",
            "Reversed string: dasarp\n"
          ]
        }
      ],
      "source": [
        "# Your code here\n",
        "text = input(\"Enter a string: \")\n",
        "reversed_text = \"\"\n",
        "for char in text:\n",
        "    reversed_text = char + reversed_text\n",
        "print(\"Reversed string:\", reversed_text)"
      ]
    },
    {
      "cell_type": "markdown",
      "metadata": {
        "id": "tAU_hrQKC5RM"
      },
      "source": [
        "**Question 19:** Write a Python program to check if a string is a palindrome."
      ]
    },
    {
      "cell_type": "code",
      "execution_count": null,
      "metadata": {
        "id": "6rI7fR9cC5RM",
        "outputId": "c3b4100d-09b2-4d39-b116-239755702061",
        "colab": {
          "base_uri": "https://localhost:8080/"
        }
      },
      "outputs": [
        {
          "output_type": "stream",
          "name": "stdout",
          "text": [
            "Enter a string: malayalam\n",
            "The string is a palindrome.\n"
          ]
        }
      ],
      "source": [
        "# Your code here\n",
        "text = input(\"Enter a string: \")\n",
        "reversed_text = \"\"\n",
        "for char in text:\n",
        "    reversed_text = char + reversed_text\n",
        "\n",
        "if text == reversed_text:\n",
        "    print(\"The string is a palindrome.\")\n",
        "else:\n",
        "    print(\"The string is not a palindrome.\")"
      ]
    },
    {
      "cell_type": "markdown",
      "metadata": {
        "id": "Jzdu5LweC5RQ"
      },
      "source": [
        "**Question 20:** Write a Python program to sort a list of numbers in ascending order."
      ]
    },
    {
      "cell_type": "code",
      "execution_count": null,
      "metadata": {
        "id": "3lXr74mXC5RQ",
        "outputId": "448c512b-86dd-4b5b-c6d8-8ca46ac57fc3",
        "colab": {
          "base_uri": "https://localhost:8080/"
        }
      },
      "outputs": [
        {
          "output_type": "stream",
          "name": "stdout",
          "text": [
            "Enter list of: 9 1 8 2 7 3\n",
            "list as ascending order: [1, 2, 3, 7, 8, 9]\n"
          ]
        }
      ],
      "source": [
        "# Your code here\n",
        "numbers = input(\"Enter list of: \")\n",
        "\n",
        "num_list = list(map(int, numbers.split()))\n",
        "\n",
        "num_list.sort()\n",
        "\n",
        "print(\"list as ascending order:\", num_list)\n"
      ]
    }
  ],
  "metadata": {
    "kernelspec": {
      "display_name": "Python 3",
      "language": "python",
      "name": "python3"
    },
    "language_info": {
      "codemirror_mode": {
        "name": "ipython",
        "version": 3
      },
      "file_extension": ".py",
      "mimetype": "text/x-python",
      "name": "python",
      "nbconvert_exporter": "python",
      "pygments_lexer": "ipython3",
      "version": "3.8.5"
    },
    "colab": {
      "provenance": []
    }
  },
  "nbformat": 4,
  "nbformat_minor": 0
}