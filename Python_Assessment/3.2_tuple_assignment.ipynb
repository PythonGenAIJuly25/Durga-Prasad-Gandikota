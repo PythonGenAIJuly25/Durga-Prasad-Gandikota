{
 "cells": [
  {
   "cell_type": "markdown",
   "id": "6cade624",
   "metadata": {},
   "source": [
    "# Module 3: Data Structures Assignments\n",
    "## Lesson 3.2: Tuples\n",
    "### Assignment 1: Creating and Accessing Tuples\n",
    "\n",
    "Create a tuple with the first 10 positive integers. Print the tuple.\n"
   ]
  },
  {
   "cell_type": "code",
   "execution_count": 8,
   "id": "1158523a",
   "metadata": {},
   "outputs": [
    {
     "name": "stdout",
     "output_type": "stream",
     "text": [
      "Tuple 10 positive integers: (1, 2, 3, 4, 5, 6, 7, 8, 9, 10)\n"
     ]
    }
   ],
   "source": [
    "my_tuple = (1, 2, 3, 4, 5, 6, 7, 8, 9, 10)\n",
    "\n",
    "print(f\"Tuple 10 positive integers: {my_tuple}\")"
   ]
  },
  {
   "cell_type": "markdown",
   "id": "10fbc9dc",
   "metadata": {},
   "source": [
    "\n",
    "### Assignment 2: Accessing Tuple Elements\n",
    "\n",
    "Print the first, middle, and last elements of the tuple created in Assignment 1.\n"
   ]
  },
  {
   "cell_type": "code",
   "execution_count": 3,
   "id": "7bf292b0",
   "metadata": {},
   "outputs": [
    {
     "name": "stdout",
     "output_type": "stream",
     "text": [
      "First element: 1\n",
      "Middle element: 6\n",
      "Last element: 10\n"
     ]
    }
   ],
   "source": [
    "first = my_tuple[0]\n",
    "\n",
    "middle = my_tuple[len(my_tuple)//2]\n",
    "\n",
    "last = my_tuple[-1]\n",
    "\n",
    "print(\"First element:\", first)\n",
    "print(\"Middle element:\", middle)\n",
    "print(\"Last element:\", last)\n"
   ]
  },
  {
   "cell_type": "markdown",
   "id": "6572321f",
   "metadata": {},
   "source": [
    "\n",
    "### Assignment 3: Tuple Slicing\n",
    "\n",
    "Print the first three elements, the last three elements, and the elements from index 2 to 5 of the tuple created in Assignment 1.\n"
   ]
  },
  {
   "cell_type": "code",
   "execution_count": 6,
   "id": "8b43e3f1",
   "metadata": {},
   "outputs": [
    {
     "name": "stdout",
     "output_type": "stream",
     "text": [
      "First three elements: (1, 2, 2)\n",
      "Last three elements: (4, 4, 5)\n",
      "Elements from index 2 to 5: (2, 3, 4, 4)\n"
     ]
    }
   ],
   "source": [
    "first_three = my_tuple[:3]\n",
    "\n",
    "last_three = my_tuple[-3:]\n",
    "\n",
    "middle_elements = my_tuple[2:6]\n",
    "\n",
    "print(\"First three elements:\", first_three)\n",
    "print(\"Last three elements:\", last_three)\n",
    "print(\"Elements from index 2 to 5:\", middle_elements)"
   ]
  },
  {
   "cell_type": "markdown",
   "id": "e4ee1f7d",
   "metadata": {},
   "source": [
    "\n",
    "### Assignment 4: Nested Tuples\n",
    "\n",
    "Create a nested tuple representing a 3x3 matrix and print the matrix. Access and print the element at the second row and third column.\n"
   ]
  },
  {
   "cell_type": "code",
   "execution_count": 9,
   "id": "ff5c12c7",
   "metadata": {},
   "outputs": [
    {
     "name": "stdout",
     "output_type": "stream",
     "text": [
      "matrix 3*3:\n",
      "(1, 2, 3)\n",
      "(4, 5, 6)\n",
      "(7, 8, 9)\n",
      "\n",
      "Element at second row, third column: 6\n"
     ]
    }
   ],
   "source": [
    "matrix = ((1, 2, 3),(4, 5, 6),(7, 8, 9))\n",
    "\n",
    "print(\"matrix 3*3:\")\n",
    "for row in matrix:\n",
    "    print(row)\n",
    "\n",
    "element = matrix[1][2]\n",
    "print(\"\\nElement at second row, third column:\", element)"
   ]
  },
  {
   "cell_type": "markdown",
   "id": "4beafdcd",
   "metadata": {},
   "source": [
    "\n",
    "### Assignment 5: Tuple Concatenation\n",
    "\n",
    "Concatenate two tuples: (1, 2, 3) and (4, 5, 6). Print the resulting tuple.\n"
   ]
  },
  {
   "cell_type": "code",
   "execution_count": 11,
   "id": "ebbef17a",
   "metadata": {},
   "outputs": [
    {
     "name": "stdout",
     "output_type": "stream",
     "text": [
      "Concatenated Tuple is: (1, 2, 3, 4, 5, 6)\n"
     ]
    }
   ],
   "source": [
    "tuple1 = (1, 2, 3)\n",
    "tuple2 = (4, 5, 6)\n",
    "\n",
    "result = tuple1 + tuple2\n",
    "\n",
    "print(f\"Concatenated Tuple is: {result}\")"
   ]
  },
  {
   "cell_type": "markdown",
   "id": "feeaa54d",
   "metadata": {},
   "source": [
    "\n",
    "### Assignment 6: Tuple Methods\n",
    "\n",
    "Create a tuple with duplicate elements and count the occurrences of an element. Find the index of the first occurrence of an element in the tuple.\n"
   ]
  },
  {
   "cell_type": "code",
   "execution_count": null,
   "id": "834867a6",
   "metadata": {},
   "outputs": [
    {
     "name": "stdout",
     "output_type": "stream",
     "text": [
      "Tuple: (1, 2, 3, 2, 4, 2, 5)\n",
      "Number of times 2 appears: 3\n",
      "First occurrence of 2 is at index: 1\n"
     ]
    }
   ],
   "source": [
    "numbers = (1, 2, 3, 2, 4, 2, 5)\n",
    "\n",
    "element = 2\n",
    "\n",
    "count = numbers.count(element)\n",
    "\n",
    "first_index = numbers.index(element)\n",
    "\n",
    "print(\"Tuple:\", numbers)\n",
    "print(f\"Number of times {element} appears:\", count)\n",
    "print(f\"First occurrence of {element} is at index:\", first_index)"
   ]
  },
  {
   "cell_type": "markdown",
   "id": "d225b83a",
   "metadata": {},
   "source": [
    "\n",
    "### Assignment 7: Unpacking Tuples\n",
    "\n",
    "Create a tuple with 5 elements and unpack it into 5 variables. Print the variables.\n"
   ]
  },
  {
   "cell_type": "code",
   "execution_count": 13,
   "id": "9fb7b4e8",
   "metadata": {},
   "outputs": [
    {
     "name": "stdout",
     "output_type": "stream",
     "text": [
      "a = 10\n",
      "b = 20\n",
      "c = 30\n",
      "d = 40\n",
      "e = 50\n"
     ]
    }
   ],
   "source": [
    "my_tuple = (10, 20, 30, 40, 50)\n",
    "\n",
    "a, b, c, d, e = my_tuple\n",
    "\n",
    "print(\"a =\", a)\n",
    "print(\"b =\", b)\n",
    "print(\"c =\", c)\n",
    "print(\"d =\", d)\n",
    "print(\"e =\", e)"
   ]
  },
  {
   "cell_type": "markdown",
   "id": "8bf8af5c",
   "metadata": {},
   "source": [
    "\n",
    "### Assignment 8: Tuple Conversion\n",
    "\n",
    "Convert a list of the first 5 positive integers to a tuple. Print the tuple.\n"
   ]
  },
  {
   "cell_type": "code",
   "execution_count": 15,
   "id": "0192d658",
   "metadata": {},
   "outputs": [
    {
     "name": "stdout",
     "output_type": "stream",
     "text": [
      "Converted Tuple is: (1, 2, 3, 4, 5)\n"
     ]
    }
   ],
   "source": [
    "my_list = [1, 2, 3, 4, 5]\n",
    "\n",
    "my_tuple = tuple(my_list)\n",
    "\n",
    "print(f\"Converted Tuple is: {my_tuple}\")"
   ]
  },
  {
   "cell_type": "markdown",
   "id": "8de41c1b",
   "metadata": {},
   "source": [
    "\n",
    "### Assignment 9: Tuple of Tuples\n",
    "\n",
    "Create a tuple containing 3 tuples, each with 3 elements. Print the tuple of tuples.\n"
   ]
  },
  {
   "cell_type": "code",
   "execution_count": 17,
   "id": "a4794436",
   "metadata": {},
   "outputs": [
    {
     "name": "stdout",
     "output_type": "stream",
     "text": [
      "Tuple of tuples: ((1, 2, 3), (4, 5, 6), (7, 8, 9))\n"
     ]
    }
   ],
   "source": [
    "tuples = ((1, 2, 3),(4, 5, 6),(7, 8, 9))\n",
    "\n",
    "print(f\"Tuple of tuples: {tuples}\")"
   ]
  },
  {
   "cell_type": "markdown",
   "id": "dac4b363",
   "metadata": {},
   "source": [
    "\n",
    "### Assignment 10: Tuple and List\n",
    "\n",
    "Create a tuple with the first 5 positive integers. Convert it to a list, append the number 6, and convert it back to a tuple. Print the resulting tuple.\n"
   ]
  },
  {
   "cell_type": "code",
   "execution_count": 18,
   "id": "853455f6",
   "metadata": {},
   "outputs": [
    {
     "name": "stdout",
     "output_type": "stream",
     "text": [
      "Updated Tuple is: (1, 2, 3, 4, 5, 6)\n"
     ]
    }
   ],
   "source": [
    "my_tuple = (1, 2, 3, 4, 5)\n",
    "\n",
    "my_list = list(my_tuple)\n",
    "\n",
    "my_list.append(6)\n",
    "\n",
    "new_tuple = tuple(my_list)\n",
    "\n",
    "print(f\"Updated Tuple is: {new_tuple}\")"
   ]
  },
  {
   "cell_type": "markdown",
   "id": "aea9f73e",
   "metadata": {},
   "source": [
    "\n",
    "### Assignment 11: Tuple and String\n",
    "\n",
    "Create a tuple with the characters of a string. Join the tuple elements into a single string. Print the string.\n"
   ]
  },
  {
   "cell_type": "code",
   "execution_count": 20,
   "id": "a705e052",
   "metadata": {},
   "outputs": [
    {
     "name": "stdout",
     "output_type": "stream",
     "text": [
      "Tuple of characters: ('h', 'e', 'l', 'l', 'o')\n",
      "Joined string is: hello\n"
     ]
    }
   ],
   "source": [
    "text = \"hello\"\n",
    "\n",
    "char_tuple = tuple(text)\n",
    "\n",
    "joined_string = ''.join(char_tuple)\n",
    "\n",
    "print(f\"Tuple of characters: {char_tuple}\")\n",
    "print(f\"Joined string is: {joined_string}\")"
   ]
  },
  {
   "cell_type": "markdown",
   "id": "3155429e",
   "metadata": {},
   "source": [
    "\n",
    "### Assignment 12: Tuple and Dictionary\n",
    "\n",
    "Create a dictionary with tuple keys and integer values. Print the dictionary.\n"
   ]
  },
  {
   "cell_type": "code",
   "execution_count": 27,
   "id": "df9cb5b0",
   "metadata": {},
   "outputs": [
    {
     "name": "stdout",
     "output_type": "stream",
     "text": [
      "Dictionary with Tuple Keys: {(1, 2): 50, (3, 4): 100, (5, 6): 150}\n"
     ]
    }
   ],
   "source": [
    "my_dict = {(1, 2): 50,(3, 4): 100,(5, 6): 150}\n",
    "\n",
    "print(f\"Dictionary with Tuple Keys: {my_dict}\")\n"
   ]
  },
  {
   "cell_type": "markdown",
   "id": "bce5ead1",
   "metadata": {},
   "source": [
    "\n",
    "### Assignment 13: Nested Tuple Iteration\n",
    "\n",
    "Create a nested tuple and iterate over the elements, printing each element.\n"
   ]
  },
  {
   "cell_type": "code",
   "execution_count": 4,
   "id": "ca235324",
   "metadata": {},
   "outputs": [
    {
     "name": "stdout",
     "output_type": "stream",
     "text": [
      "Nested tuple:\n",
      "1\n",
      "2\n",
      "3\n",
      "4\n",
      "5\n",
      "6\n",
      "7\n",
      "8\n",
      "9\n"
     ]
    }
   ],
   "source": [
    "nested_tuple = ((1, 2, 3),(4, 5, 6),(7, 8, 9))\n",
    "\n",
    "print(\"Nested tuple:\")\n",
    "for row in nested_tuple:\n",
    "    for item in row:\n",
    "        print(item)"
   ]
  },
  {
   "cell_type": "markdown",
   "id": "eefb9bcd",
   "metadata": {},
   "source": [
    "\n",
    "### Assignment 14: Tuple and Set\n",
    "\n",
    "Create a tuple with duplicate elements. Convert it to a set to remove duplicates and print the resulting set.\n"
   ]
  },
  {
   "cell_type": "code",
   "execution_count": 3,
   "id": "4309b07c",
   "metadata": {},
   "outputs": [
    {
     "name": "stdout",
     "output_type": "stream",
     "text": [
      "Set Unique elements: {1, 2, 3, 4, 5}\n"
     ]
    }
   ],
   "source": [
    "my_tuple = (1, 2, 2, 3, 4, 4, 5)\n",
    "\n",
    "result_set = set(my_tuple)\n",
    "\n",
    "print(f\"Set Unique elements: {result_set}\")"
   ]
  },
  {
   "cell_type": "markdown",
   "id": "19006e48",
   "metadata": {},
   "source": [
    "\n",
    "### Assignment 15: Tuple Functions\n",
    "\n",
    "Write functions that take a tuple and return the minimum, maximum, and sum of the elements. Print the results for a sample tuple."
   ]
  },
  {
   "cell_type": "code",
   "execution_count": 28,
   "metadata": {},
   "outputs": [
    {
     "name": "stdout",
     "output_type": "stream",
     "text": [
      "Tuple: (10, 5, 20, 8, 15)\n",
      "Minimum: 5\n",
      "Maximum: 20\n",
      "Sum: 58\n"
     ]
    }
   ],
   "source": [
    "def get_min(t):\n",
    "    return min(t)\n",
    "\n",
    "def get_max(t):\n",
    "    return max(t)\n",
    "\n",
    "def get_sum(t):\n",
    "    return sum(t)\n",
    "\n",
    "tuple = (10, 5, 20, 8, 15)\n",
    "\n",
    "print(\"Tuple:\", tuple)\n",
    "print(\"Minimum:\", get_min(tuple))\n",
    "print(\"Maximum:\", get_max(tuple))\n",
    "print(\"Sum:\", get_sum(tuple))"
   ]
  }
 ],
 "metadata": {
  "kernelspec": {
   "display_name": "Python 3",
   "language": "python",
   "name": "python3"
  },
  "language_info": {
   "codemirror_mode": {
    "name": "ipython",
    "version": 3
   },
   "file_extension": ".py",
   "mimetype": "text/x-python",
   "name": "python",
   "nbconvert_exporter": "python",
   "pygments_lexer": "ipython3",
   "version": "3.13.3"
  }
 },
 "nbformat": 4,
 "nbformat_minor": 5
}
