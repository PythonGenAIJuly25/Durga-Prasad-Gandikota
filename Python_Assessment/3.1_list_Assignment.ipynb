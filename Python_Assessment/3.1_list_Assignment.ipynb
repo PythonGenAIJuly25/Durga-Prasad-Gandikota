{
 "cells": [
  {
   "cell_type": "markdown",
   "metadata": {},
   "source": [
    "# Module 3: Data Structures Assignments\n",
    "## Lesson 3.1: Lists\n",
    "### Assignment 1: Creating and Accessing Lists\n",
    "\n",
    "Create a list of the first 20 positive integers. Print the list.\n"
   ]
  },
  {
   "cell_type": "code",
   "execution_count": 1,
   "id": "3611e26f",
   "metadata": {},
   "outputs": [
    {
     "name": "stdout",
     "output_type": "stream",
     "text": [
      "List 20 positive integers: [1, 2, 3, 4, 5, 6, 7, 8, 9, 10, 11, 12, 13, 14, 15, 16, 17, 18, 19, 20]\n"
     ]
    }
   ],
   "source": [
    "my_list = list(range(1, 21))\n",
    "\n",
    "print(f\"List 20 positive integers: {my_list}\")"
   ]
  },
  {
   "cell_type": "markdown",
   "id": "5f18d9d2",
   "metadata": {},
   "source": [
    "\n",
    "### Assignment 2: Accessing List Elements\n",
    "\n",
    "Print the first, middle, and last elements of the list created in Assignment 1.\n"
   ]
  },
  {
   "cell_type": "code",
   "execution_count": 3,
   "id": "e302a459",
   "metadata": {},
   "outputs": [
    {
     "name": "stdout",
     "output_type": "stream",
     "text": [
      "List 20 positive integers: [1, 2, 3, 4, 5, 6, 7, 8, 9, 10, 11, 12, 13, 14, 15, 16, 17, 18, 19, 20]\n",
      "First element: 1\n",
      "Middle element: 11\n",
      "Last element: 20\n"
     ]
    }
   ],
   "source": [
    "\n",
    "print(f\"List 20 positive integers: {my_list}\")\n",
    "\n",
    "first = my_list[0]\n",
    "middle = my_list[len(my_list) // 2]\n",
    "last = my_list[-1]\n",
    "\n",
    "print(\"First element:\", first)\n",
    "print(\"Middle element:\", middle)\n",
    "print(\"Last element:\", last)\n"
   ]
  },
  {
   "cell_type": "markdown",
   "id": "07cabd1a",
   "metadata": {},
   "source": [
    "\n",
    "### Assignment 3: List Slicing\n",
    "\n",
    "Print the first five elements, the last five elements, and the elements from index 5 to 15 of the list created in Assignment 1.\n"
   ]
  },
  {
   "cell_type": "code",
   "execution_count": 4,
   "id": "1d398a40",
   "metadata": {},
   "outputs": [
    {
     "name": "stdout",
     "output_type": "stream",
     "text": [
      "List 20 positive integers: [1, 2, 3, 4, 5, 6, 7, 8, 9, 10, 11, 12, 13, 14, 15, 16, 17, 18, 19, 20]\n",
      "First 5 elements: [1, 2, 3, 4, 5]\n",
      "Last 5 elements: [16, 17, 18, 19, 20]\n",
      "list from index 5 to 15: [6, 7, 8, 9, 10, 11, 12, 13, 14, 15, 16]\n"
     ]
    }
   ],
   "source": [
    "print(f\"List 20 positive integers: {my_list}\")\n",
    "\n",
    "print(\"First 5 elements:\", my_list[0:5])\n",
    "\n",
    "print(\"Last 5 elements:\", my_list[-5:])\n",
    "\n",
    "print(\"list from index 5 to 15:\", my_list[5:16])"
   ]
  },
  {
   "cell_type": "markdown",
   "id": "98aee055",
   "metadata": {},
   "source": [
    "\n",
    "### Assignment 4: List Comprehensions\n",
    "\n",
    "Create a new list containing the squares of the first 10 positive integers using a list comprehension. Print the new list.\n"
   ]
  },
  {
   "cell_type": "code",
   "execution_count": 5,
   "id": "ce98f9cb",
   "metadata": {},
   "outputs": [
    {
     "name": "stdout",
     "output_type": "stream",
     "text": [
      "Squares 10 positive integers [1, 4, 9, 16, 25, 36, 49, 64, 81, 100]:\n"
     ]
    }
   ],
   "source": [
    "squares = [i * i for i in range(1, 11)]\n",
    "\n",
    "print(f\"Squares 10 positive integers {squares}:\")"
   ]
  },
  {
   "cell_type": "markdown",
   "id": "4db0dc17",
   "metadata": {},
   "source": [
    "\n",
    "### Assignment 5: Filtering Lists\n",
    "\n",
    "Create a new list containing only the even numbers from the list created in Assignment 1 using a list comprehension. Print the new list.\n"
   ]
  },
  {
   "cell_type": "code",
   "execution_count": 8,
   "id": "87b80a92",
   "metadata": {},
   "outputs": [
    {
     "name": "stdout",
     "output_type": "stream",
     "text": [
      "Even numbers from the list: [2, 4, 6, 8, 10, 12, 14, 16, 18, 20]\n"
     ]
    }
   ],
   "source": [
    "my_list = list(range(1, 21))\n",
    "\n",
    "even_numbers = [num for num in my_list if num % 2 == 0]\n",
    "\n",
    "print(f\"Even numbers from the list: {even_numbers}\")"
   ]
  },
  {
   "cell_type": "markdown",
   "id": "1e4461a5",
   "metadata": {},
   "source": [
    "\n",
    "### Assignment 6: List Methods\n",
    "\n",
    "Create a list of random numbers and sort it in ascending and descending order. Remove the duplicates from the list and print the modified list.\n"
   ]
  },
  {
   "cell_type": "code",
   "execution_count": 17,
   "id": "8bca29b8",
   "metadata": {},
   "outputs": [
    {
     "name": "stdout",
     "output_type": "stream",
     "text": [
      "[0, 1, 2, 3, 5, 5, 6, 7, 8, 8]\n",
      "[8, 8, 7, 6, 5, 5, 3, 2, 1, 0]\n",
      "[0, 1, 2, 3, 5, 6, 7, 8]\n"
     ]
    }
   ],
   "source": [
    "random_list = [8, 3, 1, 7, 2, 6, 5, 0, 8, 5]\n",
    "\n",
    "ascending = sorted(random_list)\n",
    "print(ascending)\n",
    "\n",
    "descending = sorted(random_list, reverse=True)\n",
    "print(descending)\n",
    "\n",
    "remove_duplicates = list(set(random_list))\n",
    "print(remove_duplicates)"
   ]
  },
  {
   "cell_type": "markdown",
   "id": "5eeb5d58",
   "metadata": {},
   "source": [
    "\n",
    "### Assignment 7: Nested Lists\n",
    "\n",
    "Create a nested list representing a 3x3 matrix and print the matrix. Access and print the element at the second row and third column.\n"
   ]
  },
  {
   "cell_type": "code",
   "execution_count": 20,
   "id": "84ee96e7",
   "metadata": {},
   "outputs": [
    {
     "name": "stdout",
     "output_type": "stream",
     "text": [
      "[1, 2, 3]\n",
      "[4, 5, 6]\n",
      "[7, 8, 9]\n",
      "Element at second row, third column: 6\n"
     ]
    }
   ],
   "source": [
    "matrix = [[1, 2, 3],[4, 5, 6],[7, 8, 9]]\n",
    "\n",
    "for row in matrix:\n",
    "    print(row)\n",
    "\n",
    "element = matrix[1][2]\n",
    "print(\"Element at second row, third column:\", element)"
   ]
  },
  {
   "cell_type": "markdown",
   "id": "045a189c",
   "metadata": {},
   "source": [
    "\n",
    "### Assignment 8: List of Dictionaries\n",
    "\n",
    "Create a list of dictionaries where each dictionary represents a student with keys 'name' and 'score'. Sort the list of dictionaries by the 'score' in descending order and print the sorted list.\n"
   ]
  },
  {
   "cell_type": "code",
   "execution_count": 22,
   "id": "1c2b3de1",
   "metadata": {},
   "outputs": [
    {
     "name": "stdout",
     "output_type": "stream",
     "text": [
      "[{'name': 'uma', 'score': 85}, {'name': 'krishna', 'score': 80}, {'name': 'prasad', 'score': 79}, {'name': 'lalitha', 'score': 74}]\n"
     ]
    }
   ],
   "source": [
    "students = [{'name':'krishna','score':80},{'name':'uma','score':85},{'name':'prasad','score':79},{'name':'lalitha','score':74}]\n",
    "\n",
    "sorted_list = sorted(students, key=lambda student: student['score'], reverse=True)\n",
    "\n",
    "print(sorted_list)"
   ]
  },
  {
   "cell_type": "markdown",
   "id": "83548f1e",
   "metadata": {},
   "source": [
    "\n",
    "### Assignment 9: Matrix Transposition\n",
    "\n",
    "Write a function that takes a 3x3 matrix (nested list) as input and returns its transpose. Print the original and transposed matrices.\n"
   ]
  },
  {
   "cell_type": "code",
   "execution_count": 23,
   "id": "c685b81b",
   "metadata": {},
   "outputs": [
    {
     "name": "stdout",
     "output_type": "stream",
     "text": [
      "Original Matrix:\n",
      "[1, 2, 3]\n",
      "[4, 5, 6]\n",
      "[7, 8, 9]\n",
      "\n",
      "Transposed Matrix:\n",
      "[1, 4, 7]\n",
      "[2, 5, 8]\n",
      "[3, 6, 9]\n"
     ]
    }
   ],
   "source": [
    "def transpose_matrix(matrix):\n",
    "    transposed = [[matrix[j][i] for j in range(3)] for i in range(3)]\n",
    "    return transposed\n",
    "\n",
    "original_matrix = [[1, 2, 3],[4, 5, 6],[7, 8, 9]]\n",
    "transposed_matrix = transpose_matrix(original_matrix)\n",
    "\n",
    "print(\"Original Matrix:\")\n",
    "for row in original_matrix:\n",
    "    print(row)\n",
    "\n",
    "print(\"\\nTransposed Matrix:\")\n",
    "for row in transposed_matrix:\n",
    "    print(row)"
   ]
  },
  {
   "cell_type": "markdown",
   "id": "ec05e1e4",
   "metadata": {},
   "source": [
    "\n",
    "### Assignment 10: Flattening a Nested List\n",
    "\n",
    "Write a function that takes a nested list and flattens it into a single list. Print the original and flattened lists.\n"
   ]
  },
  {
   "cell_type": "code",
   "execution_count": 24,
   "id": "f1010381",
   "metadata": {},
   "outputs": [
    {
     "name": "stdout",
     "output_type": "stream",
     "text": [
      "[[1, 2], [3, 4], [5, 6]]\n",
      "[1, 2, 3, 4, 5, 6]\n"
     ]
    }
   ],
   "source": [
    "nested_list = [[1,2],[3,4],[5,6]]\n",
    "\n",
    "def flatten_list(nested_list):\n",
    "    new_list = []\n",
    "    for i in nested_list:\n",
    "        for j in i:\n",
    "            new_list.append(j)\n",
    "    return new_list\n",
    "\n",
    "flattened = flatten_list(nested_list)\n",
    "\n",
    "print(nested_list)\n",
    "print(flattened)"
   ]
  },
  {
   "cell_type": "markdown",
   "id": "d695df70",
   "metadata": {},
   "source": [
    "\n",
    "### Assignment 11: List Manipulation\n",
    "\n",
    "Create a list of the first 10 positive integers. Remove the elements at indices 2, 4, and 6, and insert the element '99' at index 5. Print the modified list.\n"
   ]
  },
  {
   "cell_type": "code",
   "execution_count": 26,
   "id": "81ece059",
   "metadata": {},
   "outputs": [
    {
     "name": "stdout",
     "output_type": "stream",
     "text": [
      "[1, 2, 3, 4, 5, 6, 7, 8, 9, 10]\n",
      "Modified List:\n",
      "[1, 2, 4, 6, 8, 99, 9, 10]\n"
     ]
    }
   ],
   "source": [
    "numbers = list(range(1, 11))\n",
    "print(numbers)\n",
    "\n",
    "for index in sorted([2, 4, 6], reverse=True):\n",
    "    del numbers[index]\n",
    "\n",
    "numbers.insert(5, 99)\n",
    "\n",
    "print(\"Modified List:\")\n",
    "print(numbers)"
   ]
  },
  {
   "cell_type": "markdown",
   "id": "6fc88a6d",
   "metadata": {},
   "source": [
    "\n",
    "### Assignment 12: List Zipping\n",
    "\n",
    "Create two lists of the same length. Use the `zip` function to combine these lists into a list of tuples and print the result.\n"
   ]
  },
  {
   "cell_type": "code",
   "execution_count": 28,
   "id": "6ab0a788",
   "metadata": {},
   "outputs": [
    {
     "name": "stdout",
     "output_type": "stream",
     "text": [
      "Zipped List of Tuples: [(1, 'a'), (2, 'b'), (3, 'c'), (4, 'd')]\n"
     ]
    }
   ],
   "source": [
    "list1 = [1, 2, 3, 4]\n",
    "list2 = ['a', 'b', 'c', 'd']\n",
    "\n",
    "zipped_list = list(zip(list1, list2))\n",
    "\n",
    "print(f\"Zipped List of Tuples: {zipped_list}\")"
   ]
  },
  {
   "cell_type": "markdown",
   "id": "0eaa9677",
   "metadata": {},
   "source": [
    "\n",
    "### Assignment 13: List Reversal\n",
    "\n",
    "Write a function that takes a list and returns a new list with the elements in reverse order. Print the original and reversed lists.\n"
   ]
  },
  {
   "cell_type": "code",
   "execution_count": 29,
   "id": "9f26131c",
   "metadata": {},
   "outputs": [
    {
     "name": "stdout",
     "output_type": "stream",
     "text": [
      "Original List:\n",
      "[10, 20, 30, 40, 50]\n",
      "\n",
      "Reversed List:\n",
      "[50, 40, 30, 20, 10]\n"
     ]
    }
   ],
   "source": [
    "def reverse_list(original_list):\n",
    "    return original_list[::-1]\n",
    "\n",
    "original = [10, 20, 30, 40, 50]\n",
    "\n",
    "reversed_list = reverse_list(original)\n",
    "\n",
    "print(\"Original List:\")\n",
    "print(original)\n",
    "\n",
    "print(\"\\nReversed List:\")\n",
    "print(reversed_list)"
   ]
  },
  {
   "cell_type": "markdown",
   "id": "f1781425",
   "metadata": {},
   "source": [
    "\n",
    "### Assignment 14: List Rotation\n",
    "\n",
    "Write a function that rotates a list by n positions. Print the original and rotated lists.\n"
   ]
  },
  {
   "cell_type": "code",
   "execution_count": 30,
   "id": "864713f5",
   "metadata": {},
   "outputs": [
    {
     "name": "stdout",
     "output_type": "stream",
     "text": [
      "Original List:\n",
      "[1, 2, 3, 4, 5]\n",
      "Rotated List:\n",
      "[3, 4, 5, 1, 2]\n"
     ]
    }
   ],
   "source": [
    "def rotate_list(lst, n):\n",
    "    rotated = lst[n:] + lst[:n]\n",
    "    return rotated\n",
    "\n",
    "original_list = [1, 2, 3, 4, 5]\n",
    "\n",
    "n = 2\n",
    "\n",
    "rotated_list = rotate_list(original_list, n)\n",
    "\n",
    "print(\"Original List:\")\n",
    "print(original_list)\n",
    "\n",
    "print(\"Rotated List:\")\n",
    "print(rotated_list)"
   ]
  },
  {
   "cell_type": "markdown",
   "id": "c15db585",
   "metadata": {},
   "source": [
    "\n",
    "### Assignment 15: List Intersection\n",
    "\n",
    "Write a function that takes two lists and returns a new list containing only the elements that are present in both lists. Print the intersected list."
   ]
  },
  {
   "cell_type": "code",
   "execution_count": 7,
   "id": "8fa43ac7",
   "metadata": {},
   "outputs": [
    {
     "name": "stdout",
     "output_type": "stream",
     "text": [
      "Intersected list: [4, 5]\n"
     ]
    }
   ],
   "source": [
    "def intersect_lists(list1, list2):\n",
    "    result = []\n",
    "    for item in list1:\n",
    "        if item in list2:\n",
    "            result.append(item)\n",
    "    return result\n",
    "\n",
    "list_a = [1, 2, 3, 4, 5]\n",
    "list_b = [4, 5, 6, 7, 8]\n",
    "\n",
    "intersection = intersect_lists(list_a, list_b)\n",
    "\n",
    "print(f\"Intersected list: {intersection}\")"
   ]
  }
 ],
 "metadata": {
  "kernelspec": {
   "display_name": "Python 3",
   "language": "python",
   "name": "python3"
  },
  "language_info": {
   "codemirror_mode": {
    "name": "ipython",
    "version": 3
   },
   "file_extension": ".py",
   "mimetype": "text/x-python",
   "name": "python",
   "nbconvert_exporter": "python",
   "pygments_lexer": "ipython3",
   "version": "3.13.3"
  }
 },
 "nbformat": 4,
 "nbformat_minor": 5
}
