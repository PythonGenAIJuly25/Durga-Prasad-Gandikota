{
 "cells": [
  {
   "cell_type": "markdown",
   "id": "3d8dc24b",
   "metadata": {},
   "source": [
    "# Module 3: Data Structures Assignments\n",
    "## Lesson 3.3: Sets\n",
    "### Assignment 1: Creating and Accessing Sets\n",
    "\n",
    "Create a set with the first 10 positive integers. Print the set.\n"
   ]
  },
  {
   "cell_type": "code",
   "execution_count": 32,
   "id": "79939a8f",
   "metadata": {},
   "outputs": [
    {
     "name": "stdout",
     "output_type": "stream",
     "text": [
      "set 10 positive integers: {1, 2, 3, 4, 5, 6, 7, 8, 9, 10}\n"
     ]
    }
   ],
   "source": [
    "my_set = set(range(1, 11))\n",
    "\n",
    "print(f\"set 10 positive integers: {my_set}\")"
   ]
  },
  {
   "cell_type": "markdown",
   "id": "2287e5d4",
   "metadata": {},
   "source": [
    "\n",
    "### Assignment 2: Adding and Removing Elements\n",
    "\n",
    "Add the number 11 to the set created in Assignment 1. Then remove the number 1 from the set. Print the modified set.\n"
   ]
  },
  {
   "cell_type": "code",
   "execution_count": 5,
   "id": "b49c378f",
   "metadata": {},
   "outputs": [
    {
     "name": "stdout",
     "output_type": "stream",
     "text": [
      "Updated set is: {2, 3, 4, 5, 6, 7, 8, 9, 10, 11}\n"
     ]
    }
   ],
   "source": [
    "my_set = set(range(1, 11))\n",
    "my_set.add(11)\n",
    "\n",
    "my_set.remove(1)\n",
    "\n",
    "print(f\"Updated set is: {my_set}\")"
   ]
  },
  {
   "cell_type": "markdown",
   "id": "a3442e4d",
   "metadata": {},
   "source": [
    "\n",
    "### Assignment 3: Set Operations\n",
    "\n",
    "Create two sets: one with the first 5 positive integers and another with the first 5 even integers. Perform and print the results of union, intersection, difference, and symmetric difference operations on these sets.\n"
   ]
  },
  {
   "cell_type": "code",
   "execution_count": 33,
   "id": "57c2a636",
   "metadata": {},
   "outputs": [
    {
     "name": "stdout",
     "output_type": "stream",
     "text": [
      "Set 1: {1, 2, 3, 4, 5}\n",
      "Set 2: {2, 4, 6, 8, 10}\n",
      "\n",
      "Union: {1, 2, 3, 4, 5, 6, 8, 10}\n",
      "Intersection: {2, 4}\n",
      "Difference 'Set1 - Set2': {1, 3, 5}\n",
      "Symmetric Difference: {1, 3, 5, 6, 8, 10}\n"
     ]
    }
   ],
   "source": [
    "set1 = {1, 2, 3, 4, 5}\n",
    "set2 = {2, 4, 6, 8, 10}\n",
    "\n",
    "union = set1.union(set2)\n",
    "\n",
    "intersection = set1.intersection(set2)\n",
    "\n",
    "difference = set1.difference(set2)\n",
    "\n",
    "symmetric_diff = set1.symmetric_difference(set2)\n",
    "\n",
    "print(\"Set 1:\", set1)\n",
    "print(\"Set 2:\", set2)\n",
    "print(\"\\nUnion:\", union)\n",
    "print(\"Intersection:\", intersection)\n",
    "print(\"Difference 'Set1 - Set2':\", difference)\n",
    "print(\"Symmetric Difference:\", symmetric_diff)\n"
   ]
  },
  {
   "cell_type": "markdown",
   "id": "6ee57f95",
   "metadata": {},
   "source": [
    "\n",
    "### Assignment 4: Set Comprehensions\n",
    "\n",
    "Create a new set containing the squares of the first 10 positive integers using a set comprehension. Print the new set.\n"
   ]
  },
  {
   "cell_type": "code",
   "execution_count": 1,
   "id": "23d1f439",
   "metadata": {},
   "outputs": [
    {
     "name": "stdout",
     "output_type": "stream",
     "text": [
      "{64, 1, 4, 36, 100, 9, 16, 49, 81, 25}\n"
     ]
    }
   ],
   "source": [
    "squares_set = {x**2 for x in range(1, 11)}\n",
    "print(squares_set)"
   ]
  },
  {
   "cell_type": "markdown",
   "id": "53ec42bd",
   "metadata": {},
   "source": [
    "\n",
    "### Assignment 5: Filtering Sets\n",
    "\n",
    "Create a new set containing only the even numbers from the set created in Assignment 1 using a set comprehension. Print the new set.\n"
   ]
  },
  {
   "cell_type": "code",
   "execution_count": 34,
   "id": "cfbcce15",
   "metadata": {},
   "outputs": [
    {
     "name": "stdout",
     "output_type": "stream",
     "text": [
      "Set even numbers: {2, 4, 6, 8, 10}\n"
     ]
    }
   ],
   "source": [
    "my_set = {x for x in range(1, 11)}\n",
    "\n",
    "even_set = {x for x in my_set if x % 2 == 0}\n",
    "\n",
    "print(f\"Set even numbers: {even_set}\")"
   ]
  },
  {
   "cell_type": "markdown",
   "id": "6e3587e7",
   "metadata": {},
   "source": [
    "\n",
    "### Assignment 6: Set Methods\n",
    "\n",
    "Create a set with duplicate elements and remove the duplicates using set methods. Print the modified set.\n"
   ]
  },
  {
   "cell_type": "code",
   "execution_count": 6,
   "id": "42d6c9e5",
   "metadata": {},
   "outputs": [
    {
     "name": "stdout",
     "output_type": "stream",
     "text": [
      "{1, 2, 3, 4, 5}\n"
     ]
    }
   ],
   "source": [
    "duplicate_elements = [1, 2, 2, 3, 4, 4, 5, 5, 5]\n",
    "\n",
    "unique_set = set(duplicate_elements)\n",
    "\n",
    "print(unique_set)"
   ]
  },
  {
   "cell_type": "markdown",
   "id": "e80d8409",
   "metadata": {},
   "source": [
    "\n",
    "### Assignment 7: Subsets and Supersets\n",
    "\n",
    "Create two sets: one with the first 5 positive integers and another with the first 3 positive integers. Check if the second set is a subset of the first set and if the first set is a superset of the second set. Print the results.\n"
   ]
  },
  {
   "cell_type": "code",
   "execution_count": 7,
   "id": "84fb8e6d",
   "metadata": {},
   "outputs": [
    {
     "name": "stdout",
     "output_type": "stream",
     "text": [
      "Is set2 a subset of set1: True\n",
      "Is set1 a superset of set2: True\n"
     ]
    }
   ],
   "source": [
    "set1 = {1, 2, 3, 4, 5}\n",
    "set2 = {1, 2, 3}\n",
    "\n",
    "subset = set2.issubset(set1)\n",
    "\n",
    "superset = set1.issuperset(set2)\n",
    "\n",
    "print(\"Is set2 a subset of set1:\", subset)\n",
    "print(\"Is set1 a superset of set2:\", superset)"
   ]
  },
  {
   "cell_type": "markdown",
   "id": "4b72c367",
   "metadata": {},
   "source": [
    "\n",
    "### Assignment 8: Frozenset\n",
    "\n",
    "Create a frozenset with the first 5 positive integers. Print the frozenset.\n"
   ]
  },
  {
   "cell_type": "code",
   "execution_count": 8,
   "id": "a2250736",
   "metadata": {},
   "outputs": [
    {
     "name": "stdout",
     "output_type": "stream",
     "text": [
      "frozenset({1, 2, 3, 4, 5})\n"
     ]
    }
   ],
   "source": [
    "frozen_set = frozenset({1, 2, 3, 4, 5})\n",
    "print(frozen_set)"
   ]
  },
  {
   "cell_type": "markdown",
   "id": "b08491f4",
   "metadata": {},
   "source": [
    "\n",
    "### Assignment 9: Set and List Conversion\n",
    "\n",
    "Create a set with the first 5 positive integers. Convert it to a list, append the number 6, and convert it back to a set. Print the resulting set.\n"
   ]
  },
  {
   "cell_type": "code",
   "execution_count": 9,
   "id": "09aab2a0",
   "metadata": {},
   "outputs": [
    {
     "name": "stdout",
     "output_type": "stream",
     "text": [
      "{1, 2, 3, 4, 5, 6}\n"
     ]
    }
   ],
   "source": [
    "my_set = {1, 2, 3, 4, 5}\n",
    "\n",
    "my_list = list(my_set)\n",
    "\n",
    "my_list.append(6)\n",
    "\n",
    "updated_set = set(my_list)\n",
    "\n",
    "print(updated_set)"
   ]
  },
  {
   "cell_type": "markdown",
   "id": "04aae2c8",
   "metadata": {},
   "source": [
    "\n",
    "### Assignment 10: Set and Dictionary\n",
    "\n",
    "Create a dictionary with set keys and integer values. Print the dictionary.\n"
   ]
  },
  {
   "cell_type": "code",
   "execution_count": null,
   "id": "4a62ba49",
   "metadata": {},
   "outputs": [],
   "source": [
    "dict = { set({1, 2}): 100, set({3, 4}): 200, set({5, 6}): 300}\n",
    "print(dict)"
   ]
  },
  {
   "cell_type": "markdown",
   "id": "e1fb8138",
   "metadata": {},
   "source": [
    "\n",
    "### Assignment 11: Iterating Over Sets\n",
    "\n",
    "Create a set and iterate over the elements, printing each element.\n"
   ]
  },
  {
   "cell_type": "code",
   "execution_count": 12,
   "id": "d3969ed8",
   "metadata": {},
   "outputs": [
    {
     "name": "stdout",
     "output_type": "stream",
     "text": [
      "50\n",
      "20\n",
      "40\n",
      "10\n",
      "30\n"
     ]
    }
   ],
   "source": [
    "my_set = {10, 20, 30, 40, 50}\n",
    "\n",
    "for item in my_set:\n",
    "    print(item)"
   ]
  },
  {
   "cell_type": "markdown",
   "id": "fde28cd9",
   "metadata": {},
   "source": [
    "\n",
    "### Assignment 12: Removing Elements from Sets\n",
    "\n",
    "Create a set and remove elements from it until it is empty. Print the set after each removal.\n"
   ]
  },
  {
   "cell_type": "code",
   "execution_count": 14,
   "id": "ca86353b",
   "metadata": {},
   "outputs": [
    {
     "name": "stdout",
     "output_type": "stream",
     "text": [
      "Removed: 50, {20, 40, 10, 30}\n",
      "Removed: 20, {40, 10, 30}\n",
      "Removed: 40, {10, 30}\n",
      "Removed: 10, {30}\n",
      "Removed: 30, set()\n"
     ]
    }
   ],
   "source": [
    "my_set = {10, 20, 30, 40, 50}\n",
    "\n",
    "while my_set:\n",
    "    removed_element = my_set.pop()\n",
    "    print(f\"Removed: {removed_element}, {my_set}\")"
   ]
  },
  {
   "cell_type": "markdown",
   "id": "dd1368b7",
   "metadata": {},
   "source": [
    "\n",
    "### Assignment 13: Set Symmetric Difference Update\n",
    "\n",
    "Create two sets and update the first set with the symmetric difference of the two sets. Print the modified first set.\n"
   ]
  },
  {
   "cell_type": "code",
   "execution_count": 22,
   "id": "442204a8",
   "metadata": {},
   "outputs": [
    {
     "name": "stdout",
     "output_type": "stream",
     "text": [
      "Modified set: {1, 2, 5, 6}\n"
     ]
    }
   ],
   "source": [
    "set1 = {1, 2, 3, 4}\n",
    "set2 = {3, 4, 5, 6}\n",
    "\n",
    "set1.symmetric_difference_update(set2)\n",
    "\n",
    "print(\"Modified set:\", set1)"
   ]
  },
  {
   "cell_type": "markdown",
   "id": "db56535f",
   "metadata": {},
   "source": [
    "\n",
    "### Assignment 14: Set Membership Testing\n",
    "\n",
    "Create a set and test if certain elements are present in the set. Print the results.\n"
   ]
  },
  {
   "cell_type": "code",
   "execution_count": 35,
   "id": "94231fa8",
   "metadata": {},
   "outputs": [
    {
     "name": "stdout",
     "output_type": "stream",
     "text": [
      "20 is present in the set.\n",
      "25 is Not present in the set.\n",
      "50 is present in the set.\n",
      "60 is Not present in the set.\n"
     ]
    }
   ],
   "source": [
    "my_set = {10, 20, 30, 40, 50}\n",
    "\n",
    "elements = [20, 25, 50, 60]\n",
    "\n",
    "for x in elements:\n",
    "    if x in my_set:\n",
    "        print(f\"{x} is present in the set.\")\n",
    "    else:\n",
    "        print(f\"{x} is Not present in the set.\")"
   ]
  },
  {
   "cell_type": "markdown",
   "id": "aa295036",
   "metadata": {},
   "source": [
    "\n",
    "### Assignment 15: Set of Tuples\n",
    "\n",
    "Create a set containing tuples, where each tuple contains two elements. Print the set."
   ]
  },
  {
   "cell_type": "code",
   "execution_count": 31,
   "metadata": {},
   "outputs": [
    {
     "name": "stdout",
     "output_type": "stream",
     "text": [
      "set of tuples: {(1, 2), (3, 4), (7, 8), (5, 6)}\n"
     ]
    }
   ],
   "source": [
    "my_set = {(1, 2), (3, 4), (5, 6), (7, 8)}\n",
    "\n",
    "print(f\"set of tuples: {my_set}\")"
   ]
  }
 ],
 "metadata": {
  "kernelspec": {
   "display_name": "Python 3",
   "language": "python",
   "name": "python3"
  },
  "language_info": {
   "codemirror_mode": {
    "name": "ipython",
    "version": 3
   },
   "file_extension": ".py",
   "mimetype": "text/x-python",
   "name": "python",
   "nbconvert_exporter": "python",
   "pygments_lexer": "ipython3",
   "version": "3.13.3"
  }
 },
 "nbformat": 4,
 "nbformat_minor": 5
}
